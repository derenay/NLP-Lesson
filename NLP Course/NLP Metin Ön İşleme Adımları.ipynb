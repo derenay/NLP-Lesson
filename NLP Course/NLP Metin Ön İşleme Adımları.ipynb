{
 "cells": [
  {
   "cell_type": "markdown",
   "metadata": {},
   "source": [
    "## NLP Metin Ön İşleme Adımları"
   ]
  },
  {
   "cell_type": "code",
   "execution_count": 1,
   "metadata": {},
   "outputs": [],
   "source": [
    "from nltk.corpus import stopwords\n",
    "import nltk\n",
    "from nltk.tokenize import word_tokenize, sent_tokenize"
   ]
  },
  {
   "cell_type": "markdown",
   "metadata": {},
   "source": [
    "# Stopwords Çıkarma\n",
    "Stopwords, bağlaçlar, zamirler gibi anlam açısından çok fazla bilgi taşımayan kelimelerdir. Örneğin, \"ve\", \"ile\", \"bir\", \"ama\" gibi kelimeler genellikle çıkarılır.\n",
    "\n",
    "📌 Örnek: Girdi metin: \"Bu bir test cümlesidir ve gereksiz kelimeleri çıkarmalıyız.\"\n",
    "\n",
    "Stopwords Çıkarıldıktan Sonra: [\"Bu\", \"test\", \"cümlesidir\", \"gereksiz\", \"kelimeleri\", \"çıkarmalıyız\"]"
   ]
  },
  {
   "cell_type": "code",
   "execution_count": 3,
   "metadata": {},
   "outputs": [
    {
     "name": "stderr",
     "output_type": "stream",
     "text": [
      "[nltk_data] Downloading package stopwords to\n",
      "[nltk_data]     C:\\Users\\Erenay\\AppData\\Roaming\\nltk_data...\n",
      "[nltk_data]   Package stopwords is already up-to-date!\n"
     ]
    }
   ],
   "source": [
    "nltk.download('stopwords')\n",
    "stop_words = set(stopwords.words('turkish'))"
   ]
  },
  {
   "cell_type": "code",
   "execution_count": 5,
   "metadata": {},
   "outputs": [
    {
     "name": "stdout",
     "output_type": "stream",
     "text": [
      "['bir', 'test', 'cümlesidir', 'gereksiz', 'kelimeleri', 'çıkarmalıyız', '.']\n"
     ]
    }
   ],
   "source": [
    "text = \"Bu bir test cümlesidir ve gereksiz kelimeleri çıkarmalıyız.\"\n",
    "tokens = word_tokenize(text)\n",
    "filtered_tokens = [word for word in tokens if word.lower() not in stop_words]\n",
    "print(filtered_tokens)"
   ]
  },
  {
   "cell_type": "markdown",
   "metadata": {},
   "source": [
    "# Lemmatization ve Stemming\n",
    "\n",
    "Bu adımlar, kelimeleri köklerine indirgeme işlemleridir.\n",
    "\n",
    "Stemmer (Kök Bulma)\n",
    "Stemming, kelimenin son eklerini keserek kökünü bulmaya çalışır. Ancak bu yöntem dilbilgisel olarak hatalı sonuçlar verebilir.\n",
    "\n",
    "📌 Örnek:\n",
    "\n",
    "\"Koşuyorum\" → \"Koş\"\n",
    "\"Kitapları\" → \"Kitap\""
   ]
  },
  {
   "cell_type": "code",
   "execution_count": 6,
   "metadata": {},
   "outputs": [
    {
     "name": "stdout",
     "output_type": "stream",
     "text": [
      "run\n",
      "book\n"
     ]
    }
   ],
   "source": [
    "from nltk.stem import PorterStemmer\n",
    "stemmer = PorterStemmer()\n",
    "print(stemmer.stem(\"running\"))\n",
    "print(stemmer.stem(\"books\"))"
   ]
  },
  {
   "cell_type": "markdown",
   "metadata": {},
   "source": [
    "# Lemmatization (Kökleştirme)\n",
    "Lemmatization, kelimenin anlamını koruyarak köküne indirir. Stemming’e göre daha doğru sonuçlar verir.\n",
    "\n",
    "📌 Örnek:\n",
    "\n",
    "\"Koşuyorum\" → \"Koşmak\"\n",
    "\"Kitapları\" → \"Kitap\""
   ]
  },
  {
   "cell_type": "code",
   "execution_count": 9,
   "metadata": {},
   "outputs": [
    {
     "name": "stdout",
     "output_type": "stream",
     "text": [
      "run\n",
      "book\n"
     ]
    }
   ],
   "source": [
    "from nltk.stem import WordNetLemmatizer\n",
    "\n",
    "lemmatizer = WordNetLemmatizer()\n",
    "\n",
    "print(lemmatizer.lemmatize('running', pos='v'))\n",
    "print(lemmatizer.lemmatize('books'))"
   ]
  },
  {
   "cell_type": "markdown",
   "metadata": {},
   "source": [
    "# POS Tagging (Kelime Türü Etiketleme)\n",
    "POS Tagging, kelimelerin cümledeki türlerini belirlemektir. Örneğin, isim (noun), fiil (verb), sıfat (adjective) gibi türlere ayrılır.\n",
    "\n",
    "📌 Örnek:\n",
    "\n",
    "\"Koşuyorum\" → Fiil (Verb)\n",
    "\"Güzel\" → Sıfat (Adjective)"
   ]
  },
  {
   "cell_type": "code",
   "execution_count": null,
   "metadata": {},
   "outputs": [],
   "source": [
    "from nltk import pos_tag\n",
    "\n",
    "tokens = word_tokenize(\"Güzel bir gün başladı.\")\n",
    "print(pos_tag(tokens))  # [('Güzel', 'JJ'), ('bir', 'DT'), ('gün', 'NN'), ('başladı', 'VBD')]\n"
   ]
  },
  {
   "cell_type": "markdown",
   "metadata": {},
   "source": [
    "# Named Entity Recognition (NER)\n",
    "Named Entity Recognition (NER), metindeki özel isimleri (şahıs, mekan, organizasyon vb.) belirlemek için kullanılır.\n",
    "\n",
    "📌 Örnek:\n",
    "Metin: \"Elon Musk, SpaceX şirketini kurdu ve Mars'a insan göndermeyi planlıyor.\"\n",
    "\n",
    "Elon Musk → Kişi (Person)\n",
    "SpaceX → Organizasyon (Organization)\n",
    "Mars → Yer (Location)"
   ]
  },
  {
   "cell_type": "code",
   "execution_count": null,
   "metadata": {},
   "outputs": [],
   "source": [
    "import spacy\n",
    "nlp = spacy.load(\"en_core_web_sm\")\n",
    "\n",
    "text = \"Elon Musk founded SpaceX and plans to send humans to Mars.\"\n",
    "doc = nlp(text)\n",
    "\n",
    "for ent in doc.ents:\n",
    "    print(ent.text, ent.label_)  # \"Elon Musk PERSON\", \"SpaceX ORG\", \"Mars LOC\"\n"
   ]
  },
  {
   "cell_type": "markdown",
   "metadata": {},
   "source": [
    "# Metin Normalizasyonu\n",
    "Bazı metinlerde farklı yazım türleri olabilir. NLP için metni tutarlı hale getirmek gerekir.\n",
    "\n",
    "📌 Örnek:\n",
    "\n",
    "Büyük-küçük harf dönüşümü: \"MERHABA\" → \"merhaba\"\n",
    "Noktalama işaretlerinin kaldırılması: \"Merhaba! Nasılsın?\" → \"Merhaba Nasılsın\""
   ]
  },
  {
   "cell_type": "code",
   "execution_count": 24,
   "metadata": {},
   "outputs": [
    {
     "name": "stdout",
     "output_type": "stream",
     "text": [
      "merhaba nasılsın\n"
     ]
    }
   ],
   "source": [
    "import re\n",
    "\n",
    "text = \"Merhaba! Nasılsın?\"\n",
    "clean_text = re.sub(r'[^\\w\\s]', '', text.lower())  # Noktalama kaldırma ve küçültme\n",
    "print(clean_text)  # \"merhaba nasılsın\"\n"
   ]
  }
 ],
 "metadata": {
  "kernelspec": {
   "display_name": "Python 3",
   "language": "python",
   "name": "python3"
  },
  "language_info": {
   "codemirror_mode": {
    "name": "ipython",
    "version": 3
   },
   "file_extension": ".py",
   "mimetype": "text/x-python",
   "name": "python",
   "nbconvert_exporter": "python",
   "pygments_lexer": "ipython3",
   "version": "3.12.7"
  }
 },
 "nbformat": 4,
 "nbformat_minor": 2
}
